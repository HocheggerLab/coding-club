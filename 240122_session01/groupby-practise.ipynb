{
 "cells": [
  {
   "cell_type": "markdown",
   "metadata": {},
   "source": [
    "## Groupby practice"
   ]
  },
  {
   "cell_type": "markdown",
   "metadata": {},
   "source": [
    "Import the pandas library and read in the sample data"
   ]
  },
  {
   "cell_type": "markdown",
   "metadata": {},
   "source": [
    "Inspect the dataframe and get basic statistical analysis usng pandas functions."
   ]
  },
  {
   "cell_type": "markdown",
   "metadata": {},
   "source": [
    "Basic Grouping: Group the data by the cell type (assuming one of the columns represents this) and calculate the mean of the area_nucleus column for each group."
   ]
  },
  {
   "cell_type": "markdown",
   "metadata": {},
   "source": []
  },
  {
   "cell_type": "markdown",
   "metadata": {},
   "source": [
    "Advanced Grouping: Group the data by two categorical columns (e.g., cell type and condition) and calculate the sum of the area_nucleus column for each group."
   ]
  },
  {
   "cell_type": "markdown",
   "metadata": {},
   "source": [
    "Aggregating Multiple Columns: Group the data by a categorical column and calculate the mean, sum, and standard deviation for different numerical columns within each group."
   ]
  },
  {
   "cell_type": "markdown",
   "metadata": {},
   "source": [
    "Per condition count the number of cells in the different cell cycle phases"
   ]
  },
  {
   "cell_type": "markdown",
   "metadata": {},
   "source": []
  },
  {
   "cell_type": "code",
   "execution_count": null,
   "metadata": {},
   "outputs": [],
   "source": []
  }
 ],
 "metadata": {
  "language_info": {
   "name": "python"
  }
 },
 "nbformat": 4,
 "nbformat_minor": 2
}
