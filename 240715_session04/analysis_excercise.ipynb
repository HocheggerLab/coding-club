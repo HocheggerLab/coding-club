{
 "cells": [
  {
   "cell_type": "code",
   "execution_count": 1,
   "metadata": {},
   "outputs": [],
   "source": [
    "from pathlib import Path\n",
    "\n",
    "import matplotlib.pyplot as plt\n",
    "import pandas as pd\n",
    "import seaborn as sns\n",
    "from matplotlib import ticker\n",
    "from matplotlib.gridspec import GridSpec\n",
    "\n",
    "import warnings\n",
    "warnings.filterwarnings('ignore')\n",
    "\n",
    "\n",
    "def save_fig(fig,\n",
    "    path: Path, fig_id: str, tight_layout : bool = True, fig_extension: str = \"pdf\",\n",
    "        resolution: int = 300) -> None:\n",
    "    \"\"\"\n",
    "    coherent saving of matplotlib figures as pdfs (default)\n",
    "    :rtype: object\n",
    "    :param path: path for saving\n",
    "    :param fig_id: name of saved figure\n",
    "    :param tight_layout: option, default True\n",
    "    :param fig_extension: option, default pdf\n",
    "    :param resolution: option, default 300dpi\n",
    "    :return: None, saves Figure in poth\n",
    "    \"\"\"\n",
    "\n",
    "    dest = path / f\"{fig_id}.{fig_extension}\"\n",
    "    print(\"Saving figure\", fig_id)\n",
    "    if tight_layout:\n",
    "        fig.set_tight_layout(True)\n",
    "    plt.savefig(dest, format=fig_extension, dpi=resolution, facecolor='white')\n",
    "path = Path.cwd() / \"data\" \n",
    "path.mkdir(exist_ok=True)\n",
    "home_dir = Path.home()\n",
    "style_path = home_dir / 'matplotlib_style/Style_03_fig.mplstyle'\n",
    "plt.style.use(style_path)\n",
    "prop_cycle = plt.rcParams[\"axes.prop_cycle\"]\n",
    "colors = prop_cycle.by_key()[\"color\"]"
   ]
  },
  {
   "cell_type": "markdown",
   "metadata": {},
   "source": [
    "The Style_03_fig.mplstyle contains a lot of styling information for matplotlib figures.\n",
    "Have a look at this and play around with it! I set this up so that the font sizes are\n",
    "compatible with general figure styles for papers, so quite small.\n",
    "Using the style sheet you can take more or less total control of how you plot will look like."
   ]
  },
  {
   "cell_type": "code",
   "execution_count": 2,
   "metadata": {},
   "outputs": [],
   "source": [
    "# Specify the directory containing the CSV file\n",
    "directory = Path.cwd()\n",
    "\n",
    "if csv_files := list(directory.glob(\"*.csv\")):\n",
    "    # There should be only one CSV file in the directory\n",
    "    csv_file = csv_files[0]\n",
    "\n",
    "    # Read the CSV file\n",
    "    df = pd.read_csv(csv_file, index_col=0)"
   ]
  },
  {
   "cell_type": "code",
   "execution_count": 3,
   "metadata": {},
   "outputs": [
    {
     "data": {
      "text/plain": [
       "Index(['experiment', 'well', 'cell_line', 'gwli', 'dox', 'label',\n",
       "       'area_nucleus', 'intensity_max_DAPI_nucleus',\n",
       "       'intensity_min_DAPI_nucleus', 'intensity_mean_DAPI_nucleus',\n",
       "       'centroid-0', 'centroid-1', 'Cyto_ID', 'integrated_int_DAPI',\n",
       "       'area_cell', 'intensity_max_DAPI_cell', 'intensity_min_DAPI_cell',\n",
       "       'intensity_mean_DAPI_cell', 'centroid-0_x', 'centroid-1_x', 'area_cyto',\n",
       "       'intensity_max_DAPI_cyto', 'intensity_min_DAPI_cyto',\n",
       "       'intensity_mean_DAPI_cyto', 'centroid-0_y', 'centroid-1_y',\n",
       "       'intensity_max_Tub_nucleus', 'intensity_min_Tub_nucleus',\n",
       "       'intensity_mean_Tub_nucleus', 'intensity_max_Tub_cell',\n",
       "       'intensity_min_Tub_cell', 'intensity_mean_Tub_cell',\n",
       "       'intensity_max_Tub_cyto', 'intensity_min_Tub_cyto',\n",
       "       'intensity_mean_Tub_cyto', 'intensity_max_H2AX_nucleus',\n",
       "       'intensity_min_H2AX_nucleus', 'intensity_mean_H2AX_nucleus',\n",
       "       'intensity_max_H2AX_cell', 'intensity_min_H2AX_cell',\n",
       "       'intensity_mean_H2AX_cell', 'intensity_max_H2AX_cyto',\n",
       "       'intensity_min_H2AX_cyto', 'intensity_mean_H2AX_cyto',\n",
       "       'intensity_max_EdU_nucleus', 'intensity_min_EdU_nucleus',\n",
       "       'intensity_mean_EdU_nucleus', 'intensity_max_EdU_cell',\n",
       "       'intensity_min_EdU_cell', 'intensity_mean_EdU_cell',\n",
       "       'intensity_max_EdU_cyto', 'intensity_min_EdU_cyto',\n",
       "       'intensity_mean_EdU_cyto', 'plate_id', 'well_id', 'image_id',\n",
       "       'integrated_int_DAPI_norm', 'intensity_mean_EdU_nucleus_norm',\n",
       "       'cell_cycle_detailed', 'cell_cycle'],\n",
       "      dtype='object')"
      ]
     },
     "execution_count": 3,
     "metadata": {},
     "output_type": "execute_result"
    }
   ],
   "source": [
    "df.columns"
   ]
  },
  {
   "cell_type": "markdown",
   "metadata": {},
   "source": [
    "all functions I wrote are based on a categorical column \"condition\". \n",
    "This can then be turned into a list with a specific order to show the relevant results \n",
    "in a logical sequence.\n",
    "In many cases the treatments are more complex that a single condition. So here for example we\n",
    "have two treatments Dox and Gwli. So we need to combine this into a single condition column. This is what the\n",
    "next line achieves.\n",
    "This may be tricky to understand (apply and lambda functions are not thinsg we use every day)\n",
    "But if you use code, try to understand what it does. If you feed this line to ChatGTO it will\n",
    "give you a breakdown of whats going on."
   ]
  },
  {
   "cell_type": "code",
   "execution_count": 4,
   "metadata": {},
   "outputs": [],
   "source": [
    "df['condition'] = df.apply(lambda row: f\"gwli {row['gwli']}; dox {row['dox']}\", axis=1)"
   ]
  },
  {
   "cell_type": "code",
   "execution_count": 5,
   "metadata": {},
   "outputs": [
    {
     "data": {
      "text/plain": [
       "array(['RPE-1_WT', 'RPE-1_P53KO', 'RPE-1_WT_CycE', 'RPE-1_P53KO_CycE'],\n",
       "      dtype=object)"
      ]
     },
     "execution_count": 5,
     "metadata": {},
     "output_type": "execute_result"
    }
   ],
   "source": [
    "df['cell_line'].unique()"
   ]
  },
  {
   "cell_type": "markdown",
   "metadata": {},
   "source": []
  },
  {
   "cell_type": "markdown",
   "metadata": {},
   "source": [
    "Also the experiment has several cell lines so lets trim down the data to the specific cell lines"
   ]
  },
  {
   "cell_type": "code",
   "execution_count": 6,
   "metadata": {},
   "outputs": [],
   "source": [
    "df_WT = df[df['cell_line'] == 'RPE-1_WT']\n",
    "\n"
   ]
  },
  {
   "cell_type": "code",
   "execution_count": 7,
   "metadata": {},
   "outputs": [
    {
     "data": {
      "text/plain": [
       "['gwli -; dox -', 'gwli +; dox -', 'gwli -; dox +', 'gwli +; dox +']"
      ]
     },
     "execution_count": 7,
     "metadata": {},
     "output_type": "execute_result"
    }
   ],
   "source": [
    "conditions = list(df['condition'].unique())\n",
    "conditions"
   ]
  },
  {
   "cell_type": "markdown",
   "metadata": {},
   "source": [
    "Next we are building a pretty complex plot to show the Histgram, and Edu scatter plot as well as\n",
    "H2AX scatter plot. This is a lot of code and more or less my current limit of what I can do with matplotlib.\n",
    "Another challenge is to generate functions that work on different data sets so that you dont need to change too much.\n",
    "However, there will always be scenarios where you have to adapt the function to a specific case and get an optimal\n",
    "Figure out. So its important you understand each step."
   ]
  },
  {
   "cell_type": "markdown",
   "metadata": {},
   "source": [
    "## 1) Histogram.\n",
    "I set each subplot up as an individual Figure that can be applied to many differnet axes using the 'ax' parameter.\n",
    "You will have seen this a lot: fig, ax = plt.subplots(ncols=2, nrows=2, figsize=(3,3))\n",
    "Here is a good breakdown of what is actually happening here:\n",
    "https://towardsdatascience.com/clearing-the-confusion-once-and-for-all-fig-ax-plt-subplots-b122bb7783ca\n",
    "This is a core concept in matplotlib and important to understand"
   ]
  },
  {
   "cell_type": "code",
   "execution_count": 8,
   "metadata": {},
   "outputs": [],
   "source": [
    "def plot_histogram(ax, i, data):\n",
    "    sns.histplot(\n",
    "        data=data, x=\"integrated_int_DAPI_norm\", ax=ax, color=colors[-1]\n",
    "    )\n",
    "    ax.set_xlabel(None)\n",
    "    ax.set_xscale(\"log\", base=2)\n",
    "    ax.set_xlim([1, 16])\n",
    "    ax.xaxis.set_visible(False)\n",
    "    if i == 0:\n",
    "        ax.set_ylabel(\"Freq.\", fontsize=6)\n",
    "    else:\n",
    "        ax.yaxis.set_visible(False)\n",
    "    ax.tick_params(axis=\"both\", which=\"major\", labelsize=6)"
   ]
  },
  {
   "cell_type": "markdown",
   "metadata": {},
   "source": [
    "So how could we use this function to generate a row of histograms?"
   ]
  },
  {
   "cell_type": "code",
   "execution_count": 9,
   "metadata": {},
   "outputs": [
    {
     "data": {
      "image/png": "[encoded data removed]",
      "text/plain": [
       "<Figure size 750x450 with 4 Axes>"
      ]
     },
     "metadata": {},
     "output_type": "display_data"
    }
   ],
   "source": [
    "conditions = list(df.condition.unique())\n",
    "fig, ax = plt.subplots(ncols=len(conditions), figsize=(5, 3))\n",
    "for i, condition in enumerate(conditions):\n",
    "    df1 = df_WT[df_WT.condition == condition]\n",
    "    # your code"
   ]
  },
  {
   "cell_type": "markdown",
   "metadata": {},
   "source": [
    "Problems with this Figure:\n",
    "There is no x-axis label.\n",
    "The figure could do with a title\n",
    "It's probably a good idea to save this figure!"
   ]
  },
  {
   "cell_type": "markdown",
   "metadata": {},
   "source": [
    "## 2) Edu/PI Scatterplot\n",
    "The next Figure is the EdU scatterplot\n",
    "This work pretty much in the same way as the previous plot"
   ]
  },
  {
   "cell_type": "code",
   "execution_count": 13,
   "metadata": {},
   "outputs": [],
   "source": [
    "def plot_scatter(ax, i, data, conditions):\n",
    "    phases = [\"Sub-G1\", \"G1\", \"S\", \"G2/M\", \"Polyploid\"]\n",
    "    sns.scatterplot(\n",
    "        data=data,\n",
    "        x=\"integrated_int_DAPI_norm\",\n",
    "        y=\"intensity_mean_EdU_nucleus_norm\",\n",
    "        hue=\"cell_cycle\",\n",
    "        hue_order=phases,\n",
    "        s=2,\n",
    "        alpha=1,\n",
    "        ax=ax,\n",
    "    )\n",
    "    ax.set_xscale(\"log\")\n",
    "    ax.set_yscale(\"log\", base=2)\n",
    "    ax.grid(False)\n",
    "    ax.xaxis.set_major_formatter(\n",
    "        ticker.FuncFormatter(lambda x, pos: str(int(x)))\n",
    "    )\n",
    "    ax.set_xticks([2, 4, 8])\n",
    "    ax.set_xlim([1, 16])\n",
    "    if i == len(conditions):\n",
    "        ax.set_ylabel(\"norm. EdU int.\", fontsize=6)\n",
    "        ax.yaxis.set_major_formatter(\n",
    "            ticker.FuncFormatter(lambda x, pos: str(int(x)))\n",
    "        )\n",
    "    else:\n",
    "        ax.yaxis.set_visible(False)\n",
    "    ax.legend().remove()\n",
    "    ax.set_xlabel(None)\n",
    "    ax.axvline(x=3, color=\"black\", linestyle=\"--\")\n",
    "    ax.axhline(y=3, color=\"black\", linestyle=\"--\")\n",
    "    sns.kdeplot(\n",
    "        data=data,\n",
    "        x=\"integrated_int_DAPI_norm\",\n",
    "        y=\"intensity_mean_EdU_nucleus_norm\",\n",
    "        fill=True,\n",
    "        alpha=0.3,\n",
    "        cmap=\"rocket_r\",\n",
    "        ax=ax,\n",
    "    )\n",
    "    ax.tick_params(axis=\"both\", which=\"major\", labelsize=6)\n",
    "    ax.set_xlabel(None)"
   ]
  },
  {
   "cell_type": "code",
   "execution_count": 14,
   "metadata": {},
   "outputs": [],
   "source": [
    "#Your code to call the function"
   ]
  },
  {
   "cell_type": "markdown",
   "metadata": {},
   "source": [
    "\n",
    "How can you reduce the number of cells in this plot?\n",
    "Why is the y-axis not labeled?\n",
    "Can you identify the problem with the y-axis label in the function and fix it?\n"
   ]
  },
  {
   "cell_type": "markdown",
   "metadata": {},
   "source": [
    "## Feature Scatterplot\n",
    "The next function is set up to plot specific features (col parameter) scattered across the PI intensity on the x axis. This pretty useful for analysing different aspects of the IF data."
   ]
  },
  {
   "cell_type": "code",
   "execution_count": 15,
   "metadata": {},
   "outputs": [],
   "source": [
    "def plot_scatter_col(ax, i, data, conditions, col):\n",
    "    data[\"color\"] = data[col].apply(\n",
    "        lambda x: colors[0] if x < 4000 else colors[1]\n",
    "    )\n",
    "    sns.scatterplot(\n",
    "        data=data,\n",
    "        x=\"integrated_int_DAPI_norm\",\n",
    "        y=col,\n",
    "        hue=\"color\",\n",
    "        palette=[colors[-1], colors[1]],\n",
    "        hue_order=[colors[-1], colors[1]],\n",
    "        s=2,\n",
    "        alpha=1,\n",
    "        ax=ax,\n",
    "    )\n",
    "    ax.set_xscale(\"log\")\n",
    "    ax.set_yscale(\"log\", base=2)\n",
    "    ax.grid(False)\n",
    "    ax.xaxis.set_major_formatter(\n",
    "        ticker.FuncFormatter(lambda x, pos: str(int(x)))\n",
    "    )\n",
    "    ax.set_xticks([2, 4, 8])\n",
    "    ax.set_xlim([1, 16])\n",
    "\n",
    "    # Set specific y-axis ticks and labels\n",
    "    ax.set_yticks([2000, 4000, 8000, 16000])\n",
    "    ax.set_yticklabels([\"2\", \"4\", \"8\", \"16\"])\n",
    "\n",
    "    if i == len(conditions) * 2:\n",
    "        ax.set_ylabel(f\"{col}\", fontsize=6)\n",
    "        #Custom y-axis formatter to remove zeros\n",
    "        ax.yaxis.set_major_formatter(\n",
    "            ticker.FuncFormatter(lambda y, _: f\"{y / 1000:g}\")\n",
    "        )\n",
    "    else:\n",
    "        ax.yaxis.set_visible(False)\n",
    "\n",
    "    ax.legend().remove()\n",
    "    ax.set_xlabel(None)\n",
    "    ax.axvline(x=3, color=\"black\", linestyle=\"--\")\n",
    "    ax.axhline(y=3, color=\"black\", linestyle=\"--\")\n",
    "    sns.kdeplot(\n",
    "        data=data,\n",
    "        x=\"integrated_int_DAPI_norm\",\n",
    "        y=col,\n",
    "        fill=True,\n",
    "        alpha=0.3,\n",
    "        cmap=\"rocket_r\",\n",
    "        ax=ax,\n",
    "    )\n",
    "    ax.tick_params(axis=\"both\", which=\"major\", labelsize=6)\n",
    "    ax.set_xlabel(None)"
   ]
  },
  {
   "cell_type": "code",
   "execution_count": 17,
   "metadata": {},
   "outputs": [],
   "source": [
    "# Your code"
   ]
  },
  {
   "cell_type": "markdown",
   "metadata": {},
   "source": [
    "This needs a lot of work. What can you do to sort out the y-axis min and max values? Also legends, titles etc need a lot of work"
   ]
  },
  {
   "cell_type": "code",
   "execution_count": null,
   "metadata": {},
   "outputs": [],
   "source": []
  },
  {
   "cell_type": "code",
   "execution_count": null,
   "metadata": {},
   "outputs": [],
   "source": []
  }
 ],
 "metadata": {
  "kernelspec": {
   "display_name": "data-analysis",
   "language": "python",
   "name": "python3"
  },
  "language_info": {
   "codemirror_mode": {
    "name": "ipython",
    "version": 3
   },
   "file_extension": ".py",
   "mimetype": "text/x-python",
   "name": "python",
   "nbconvert_exporter": "python",
   "pygments_lexer": "ipython3",
   "version": "3.12.3"
  }
 },
 "nbformat": 4,
 "nbformat_minor": 2
}
