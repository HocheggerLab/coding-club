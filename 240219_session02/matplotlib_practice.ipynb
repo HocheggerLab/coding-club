{
 "cells": [
  {
   "cell_type": "code",
   "execution_count": null,
   "metadata": {},
   "outputs": [],
   "source": [
    "import pandas as pd\n",
    "from matplotlib import pyplot as plt\n",
    "from pathlib import Path\n",
    "\n",
    "df = pd.read_csv('sample_data.csv', index_col = 0)"
   ]
  },
  {
   "cell_type": "markdown",
   "metadata": {},
   "source": [
    "## Plotting a histogram\n",
    "- Using pyplot\n",
    "- Using the object poriented interface\n",
    "\n",
    "https://matplotlib.org/stable/api/_as_gen/matplotlib.pyplot.hist.html"
   ]
  },
  {
   "cell_type": "code",
   "execution_count": null,
   "metadata": {},
   "outputs": [],
   "source": [
    "plt.hist(df['integrated_int_DAPI_norm'])"
   ]
  },
  {
   "cell_type": "code",
   "execution_count": null,
   "metadata": {},
   "outputs": [],
   "source": [
    "fig, ax = plt.subplots(figsize = (6, 4))\n",
    "ax.hist(df['integrated_int_DAPI_norm'])\n",
    "\n"
   ]
  },
  {
   "cell_type": "code",
   "execution_count": null,
   "metadata": {},
   "outputs": [],
   "source": [
    "fig, ax = plt.subplots(figsize = (6, 4))\n",
    "ax.hist(df['integrated_int_DAPI_norm'], bins = 400)\n",
    "ax.set_xlim([0, 10])\n",
    "ax.set_xlabel('DNA norm. integrated intensity')\n",
    "ax.set_ylabel('Frequency')\n",
    "ax.set_title('Normalised log2 DNA intgerated intensity distribution')"
   ]
  },
  {
   "cell_type": "code",
   "execution_count": null,
   "metadata": {},
   "outputs": [],
   "source": [
    "df.condition.unique()"
   ]
  },
  {
   "cell_type": "code",
   "execution_count": null,
   "metadata": {},
   "outputs": [],
   "source": [
    "df = df[df.condition == 'siCtr'].copy()"
   ]
  },
  {
   "cell_type": "code",
   "execution_count": null,
   "metadata": {},
   "outputs": [],
   "source": [
    "col_number = len(df.condition.unique())\n",
    "fig, ax = plt.subplots(ncols=col_number, figsize = (6*col_number, 4))\n",
    "if col_number == 1:\n",
    "    ax = [ax]\n",
    "for i, condition in enumerate(df.condition.unique()):   \n",
    "    df_cond = df[df.condition == condition]\n",
    "    ax[i].hist(df_cond['integrated_int_DAPI_norm'], bins = 400)\n",
    "    ax[i].set_xlim([0, 10])\n",
    "    ax[i].set_xlabel('DNA norm. integrated intensity')\n",
    "    ax[i].set_ylabel('NFrequency')\n",
    "    ax[i].set_title(f\"DNA Hist {condition}\")\n"
   ]
  },
  {
   "cell_type": "markdown",
   "metadata": {},
   "source": [
    "## matplotlib styles"
   ]
  },
  {
   "cell_type": "code",
   "execution_count": null,
   "metadata": {},
   "outputs": [],
   "source": [
    "plt.style.available"
   ]
  },
  {
   "cell_type": "code",
   "execution_count": null,
   "metadata": {},
   "outputs": [],
   "source": [
    "for style in ['Solarize_Light2', 'bmh', 'ggplot', 'fivethirtyeight', 'seaborn-v0_8', 'seaborn-v0_8-dark']:\n",
    "    with plt.style.context(style):\n",
    "        col_number = len(df.condition.unique())\n",
    "        fig, ax = plt.subplots(ncols=col_number, figsize = (6*col_number, 4))\n",
    "        for i, condition in enumerate(df.condition.unique()):\n",
    "            df_cond = df[df.condition == condition]\n",
    "            ax[i].hist(df_cond['integrated_int_DAPI_norm'], bins = 400)\n",
    "            ax[i].set_xlim([0, 10])\n",
    "            ax[i].set_xlabel('DNA norm. integrated intensity')\n",
    "            ax[i].set_ylabel('NFrequency')\n",
    "            ax[i].set_title(f\"DNA Hist {condition}\")"
   ]
  },
  {
   "cell_type": "code",
   "execution_count": 15,
   "metadata": {},
   "outputs": [
    {
     "ename": "TypeError",
     "evalue": "'Axes' object is not subscriptable",
     "output_type": "error",
     "traceback": [
      "\u001b[0;31m---------------------------------------------------------------------------\u001b[0m",
      "\u001b[0;31mTypeError\u001b[0m                                 Traceback (most recent call last)",
      "Cell \u001b[0;32mIn[15], line 7\u001b[0m\n\u001b[1;32m      5\u001b[0m \u001b[38;5;28;01mfor\u001b[39;00m i, condition \u001b[38;5;129;01min\u001b[39;00m \u001b[38;5;28menumerate\u001b[39m(df\u001b[38;5;241m.\u001b[39mcondition\u001b[38;5;241m.\u001b[39munique()):\n\u001b[1;32m      6\u001b[0m     df_cond \u001b[38;5;241m=\u001b[39m df[df\u001b[38;5;241m.\u001b[39mcondition \u001b[38;5;241m==\u001b[39m condition]\n\u001b[0;32m----> 7\u001b[0m     \u001b[43max\u001b[49m\u001b[43m[\u001b[49m\u001b[43mi\u001b[49m\u001b[43m]\u001b[49m\u001b[38;5;241m.\u001b[39mhist(df_cond[\u001b[38;5;124m'\u001b[39m\u001b[38;5;124mintegrated_int_DAPI_norm\u001b[39m\u001b[38;5;124m'\u001b[39m], bins \u001b[38;5;241m=\u001b[39m \u001b[38;5;241m400\u001b[39m)\n\u001b[1;32m      8\u001b[0m     ax[i]\u001b[38;5;241m.\u001b[39mset_xlim([\u001b[38;5;241m0\u001b[39m, \u001b[38;5;241m10\u001b[39m])\n\u001b[1;32m      9\u001b[0m     ax[i]\u001b[38;5;241m.\u001b[39mset_xlabel(\u001b[38;5;124m'\u001b[39m\u001b[38;5;124mDNA norm. integrated intensity\u001b[39m\u001b[38;5;124m'\u001b[39m)\n",
      "\u001b[0;31mTypeError\u001b[0m: 'Axes' object is not subscriptable"
     ]
    },
    {
     "data": {
      "image/png": "[encoded data removed]",
      "text/plain": [
       "<Figure size 600x400 with 1 Axes>"
      ]
     },
     "metadata": {},
     "output_type": "display_data"
    }
   ],
   "source": [
    "style = \"/Users/hh65/Documents/Current_Coding/coding-club/240219_session02/sample_data.csv\"\n",
    "with plt.style.context(style):\n",
    "    col_number = len(df.condition.unique())\n",
    "    fig, ax = plt.subplots(ncols=col_number, figsize = (6*col_number, 4))\n",
    "    for i, condition in enumerate(df.condition.unique()):\n",
    "        df_cond = df[df.condition == condition]\n",
    "        ax[i].hist(df_cond['integrated_int_DAPI_norm'], bins = 400)\n",
    "        ax[i].set_xlim([0, 10])\n",
    "        ax[i].set_xlabel('DNA norm. integrated intensity')\n",
    "        ax[i].set_ylabel('NFrequency')\n",
    "        ax[i].set_title(f\"DNA Hist {condition}\")\n",
    "        ax[i].set_ylim([0, 2000])"
   ]
  },
  {
   "cell_type": "markdown",
   "metadata": {},
   "source": [
    "## saving data\n",
    "matplotlib has a convenient save_fig function to export the figure as png, pdf ect and set the resolution. I use a preset function to help with this: \n"
   ]
  },
  {
   "cell_type": "code",
   "execution_count": null,
   "metadata": {},
   "outputs": [],
   "source": [
    "\n",
    "def save_fig(fig,\n",
    "    path: Path, fig_id: str, tight_layout : bool = True, fig_extension: str = \"pdf\",\n",
    "        resolution: int = 300) -> None:\n",
    "    \"\"\"\n",
    "    coherent saving of matplotlib figures as pdfs (default)\n",
    "    :rtype: object\n",
    "    :param path: path for saving\n",
    "    :param fig_id: name of saved figure\n",
    "    :param tight_layout: option, default True\n",
    "    :param fig_extension: option, default pdf\n",
    "    :param resolution: option, default 300dpi\n",
    "    :return: None, saves Figure in poth\n",
    "    \"\"\"\n",
    "\n",
    "    dest = path / f\"{fig_id}.{fig_extension}\"\n",
    "    print(\"Saving figure\", fig_id)\n",
    "    if tight_layout:\n",
    "        fig.set_tight_layout(True)\n",
    "    plt.savefig(dest, format=fig_extension, dpi=resolution, facecolor='white')\n"
   ]
  },
  {
   "cell_type": "code",
   "execution_count": null,
   "metadata": {},
   "outputs": [],
   "source": [
    "path = Path.cwd() / \"data\" \n",
    "path.mkdir(exist_ok=True)\n",
    "\n",
    "style = \"/Users/hh65/Documents/Current_Coding/coding-club/240219_session02/Style_01.mplstyle\"\n",
    "with plt.style.context(style):\n",
    "    col_number = len(df.condition.unique())\n",
    "    fig, ax = plt.subplots(ncols=col_number, figsize = (6*col_number, 4))\n",
    "    for i, condition in enumerate(df.condition.unique()):\n",
    "        df_cond = df[df.condition == condition]\n",
    "        ax[i].hist(df_cond['integrated_int_DAPI_norm'], bins = 400)\n",
    "        ax[i].set_xlim([0, 10])\n",
    "        ax[i].set_xlabel('DNA norm. integrated intensity')\n",
    "        ax[i].set_ylabel('NFrequency')\n",
    "        ax[i].set_title(f\"DNA Hist {condition}\")\n",
    "    save_fig(fig, path, \"DNA_hist\")"
   ]
  },
  {
   "cell_type": "markdown",
   "metadata": {},
   "source": [
    "## Excercises\n",
    "Play around with the different plot types: barplot, violinplot, etc. \n",
    "https://matplotlib.org/stable/plot_types/index.html\n",
    "Try to plot the correlation between integrated intensity and nuclear size using scatter plot.\n"
   ]
  },
  {
   "cell_type": "code",
   "execution_count": null,
   "metadata": {},
   "outputs": [],
   "source": []
  }
 ],
 "metadata": {
  "kernelspec": {
   "display_name": "data-analysis",
   "language": "python",
   "name": "python3"
  },
  "language_info": {
   "codemirror_mode": {
    "name": "ipython",
    "version": 3
   },
   "file_extension": ".py",
   "mimetype": "text/x-python",
   "name": "python",
   "nbconvert_exporter": "python",
   "pygments_lexer": "ipython3",
   "version": "3.12.2"
  }
 },
 "nbformat": 4,
 "nbformat_minor": 2
}
